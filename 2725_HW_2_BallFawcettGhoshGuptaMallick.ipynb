{
 "cells": [
  {
   "cell_type": "code",
   "execution_count": 1,
   "metadata": {},
   "outputs": [],
   "source": [
    "import pandas as pd\n",
    "from sklearn.tree import DecisionTreeClassifier\n",
    "from sklearn.model_selection import train_test_split, cross_val_score, cross_val_predict\n",
    "from sklearn import metrics\n",
    "import numpy as np\n",
    "import statistics \n"
   ]
  },
  {
   "cell_type": "code",
   "execution_count": 2,
   "metadata": {},
   "outputs": [
    {
     "data": {
      "text/plain": [
       "college              float32\n",
       "income               float32\n",
       "overage              float32\n",
       "leftover             float32\n",
       "house                float32\n",
       "handset              float32\n",
       "long_calls           float32\n",
       "avg_calls            float32\n",
       "satis_average        float32\n",
       "satis_sat            float32\n",
       "satis_unsat          float32\n",
       "satis_verysat        float32\n",
       "satis_veryunsat      float32\n",
       "usage_avg            float32\n",
       "usage_high           float32\n",
       "usage_low            float32\n",
       "usage_veryhigh       float32\n",
       "usage_verylow        float32\n",
       "plan_actlook         float32\n",
       "plan_consid          float32\n",
       "plan_neverthought    float32\n",
       "plan_no              float32\n",
       "plan_perhaps         float32\n",
       "leave                float32\n",
       "dtype: object"
      ]
     },
     "execution_count": 2,
     "metadata": {},
     "output_type": "execute_result"
    }
   ],
   "source": [
    "col_names = ['college', 'income', 'overage', 'leftover', 'house', 'handset', 'long_calls', 'avg_calls', 'satis_average', 'satis_sat', 'satis_unsat', 'satis_verysat', 'satis_veryunsat','usage_avg','usage_high','usage_low','usage_veryhigh','usage_verylow', 'plan_actlook', 'plan_consid', 'plan_neverthought', 'plan_no', 'plan_perhaps', 'leave']\n",
    "\n",
    "pima = pd.read_csv(\"churn_data_cleaned_2.csv\", header=None, names=col_names).dropna().astype(np.float32)\n",
    "pima.dtypes"
   ]
  },
  {
   "cell_type": "code",
   "execution_count": 3,
   "metadata": {},
   "outputs": [
    {
     "data": {
      "text/html": [
       "<div>\n",
       "<style scoped>\n",
       "    .dataframe tbody tr th:only-of-type {\n",
       "        vertical-align: middle;\n",
       "    }\n",
       "\n",
       "    .dataframe tbody tr th {\n",
       "        vertical-align: top;\n",
       "    }\n",
       "\n",
       "    .dataframe thead th {\n",
       "        text-align: right;\n",
       "    }\n",
       "</style>\n",
       "<table border=\"1\" class=\"dataframe\">\n",
       "  <thead>\n",
       "    <tr style=\"text-align: right;\">\n",
       "      <th></th>\n",
       "      <th>college</th>\n",
       "      <th>income</th>\n",
       "      <th>overage</th>\n",
       "      <th>leftover</th>\n",
       "      <th>house</th>\n",
       "      <th>handset</th>\n",
       "      <th>long_calls</th>\n",
       "      <th>avg_calls</th>\n",
       "      <th>satis_average</th>\n",
       "      <th>satis_sat</th>\n",
       "      <th>...</th>\n",
       "      <th>usage_high</th>\n",
       "      <th>usage_low</th>\n",
       "      <th>usage_veryhigh</th>\n",
       "      <th>usage_verylow</th>\n",
       "      <th>plan_actlook</th>\n",
       "      <th>plan_consid</th>\n",
       "      <th>plan_neverthought</th>\n",
       "      <th>plan_no</th>\n",
       "      <th>plan_perhaps</th>\n",
       "      <th>leave</th>\n",
       "    </tr>\n",
       "  </thead>\n",
       "  <tbody>\n",
       "    <tr>\n",
       "      <td>0</td>\n",
       "      <td>1.0</td>\n",
       "      <td>132729.0</td>\n",
       "      <td>245.0</td>\n",
       "      <td>0.0</td>\n",
       "      <td>975834.0</td>\n",
       "      <td>319.0</td>\n",
       "      <td>21.0</td>\n",
       "      <td>10.0</td>\n",
       "      <td>1.0</td>\n",
       "      <td>0.0</td>\n",
       "      <td>...</td>\n",
       "      <td>0.0</td>\n",
       "      <td>0.0</td>\n",
       "      <td>0.0</td>\n",
       "      <td>0.0</td>\n",
       "      <td>1.0</td>\n",
       "      <td>0.0</td>\n",
       "      <td>0.0</td>\n",
       "      <td>0.0</td>\n",
       "      <td>0.0</td>\n",
       "      <td>1.0</td>\n",
       "    </tr>\n",
       "    <tr>\n",
       "      <td>1</td>\n",
       "      <td>0.0</td>\n",
       "      <td>93816.0</td>\n",
       "      <td>53.0</td>\n",
       "      <td>0.0</td>\n",
       "      <td>779635.0</td>\n",
       "      <td>370.0</td>\n",
       "      <td>5.0</td>\n",
       "      <td>15.0</td>\n",
       "      <td>1.0</td>\n",
       "      <td>0.0</td>\n",
       "      <td>...</td>\n",
       "      <td>0.0</td>\n",
       "      <td>0.0</td>\n",
       "      <td>0.0</td>\n",
       "      <td>0.0</td>\n",
       "      <td>1.0</td>\n",
       "      <td>0.0</td>\n",
       "      <td>0.0</td>\n",
       "      <td>0.0</td>\n",
       "      <td>0.0</td>\n",
       "      <td>0.0</td>\n",
       "    </tr>\n",
       "    <tr>\n",
       "      <td>2</td>\n",
       "      <td>0.0</td>\n",
       "      <td>21905.0</td>\n",
       "      <td>0.0</td>\n",
       "      <td>50.0</td>\n",
       "      <td>158087.0</td>\n",
       "      <td>196.0</td>\n",
       "      <td>0.0</td>\n",
       "      <td>4.0</td>\n",
       "      <td>1.0</td>\n",
       "      <td>0.0</td>\n",
       "      <td>...</td>\n",
       "      <td>0.0</td>\n",
       "      <td>0.0</td>\n",
       "      <td>0.0</td>\n",
       "      <td>0.0</td>\n",
       "      <td>1.0</td>\n",
       "      <td>0.0</td>\n",
       "      <td>0.0</td>\n",
       "      <td>0.0</td>\n",
       "      <td>0.0</td>\n",
       "      <td>0.0</td>\n",
       "    </tr>\n",
       "    <tr>\n",
       "      <td>3</td>\n",
       "      <td>0.0</td>\n",
       "      <td>116662.0</td>\n",
       "      <td>0.0</td>\n",
       "      <td>0.0</td>\n",
       "      <td>264488.0</td>\n",
       "      <td>775.0</td>\n",
       "      <td>1.0</td>\n",
       "      <td>9.0</td>\n",
       "      <td>1.0</td>\n",
       "      <td>0.0</td>\n",
       "      <td>...</td>\n",
       "      <td>0.0</td>\n",
       "      <td>0.0</td>\n",
       "      <td>0.0</td>\n",
       "      <td>0.0</td>\n",
       "      <td>1.0</td>\n",
       "      <td>0.0</td>\n",
       "      <td>0.0</td>\n",
       "      <td>0.0</td>\n",
       "      <td>0.0</td>\n",
       "      <td>0.0</td>\n",
       "    </tr>\n",
       "    <tr>\n",
       "      <td>4</td>\n",
       "      <td>1.0</td>\n",
       "      <td>42814.0</td>\n",
       "      <td>0.0</td>\n",
       "      <td>0.0</td>\n",
       "      <td>742880.0</td>\n",
       "      <td>220.0</td>\n",
       "      <td>1.0</td>\n",
       "      <td>14.0</td>\n",
       "      <td>1.0</td>\n",
       "      <td>0.0</td>\n",
       "      <td>...</td>\n",
       "      <td>0.0</td>\n",
       "      <td>0.0</td>\n",
       "      <td>0.0</td>\n",
       "      <td>0.0</td>\n",
       "      <td>1.0</td>\n",
       "      <td>0.0</td>\n",
       "      <td>0.0</td>\n",
       "      <td>0.0</td>\n",
       "      <td>0.0</td>\n",
       "      <td>1.0</td>\n",
       "    </tr>\n",
       "  </tbody>\n",
       "</table>\n",
       "<p>5 rows × 24 columns</p>\n",
       "</div>"
      ],
      "text/plain": [
       "   college    income  overage  leftover     house  handset  long_calls  \\\n",
       "0      1.0  132729.0    245.0       0.0  975834.0    319.0        21.0   \n",
       "1      0.0   93816.0     53.0       0.0  779635.0    370.0         5.0   \n",
       "2      0.0   21905.0      0.0      50.0  158087.0    196.0         0.0   \n",
       "3      0.0  116662.0      0.0       0.0  264488.0    775.0         1.0   \n",
       "4      1.0   42814.0      0.0       0.0  742880.0    220.0         1.0   \n",
       "\n",
       "   avg_calls  satis_average  satis_sat  ...  usage_high  usage_low  \\\n",
       "0       10.0            1.0        0.0  ...         0.0        0.0   \n",
       "1       15.0            1.0        0.0  ...         0.0        0.0   \n",
       "2        4.0            1.0        0.0  ...         0.0        0.0   \n",
       "3        9.0            1.0        0.0  ...         0.0        0.0   \n",
       "4       14.0            1.0        0.0  ...         0.0        0.0   \n",
       "\n",
       "   usage_veryhigh  usage_verylow  plan_actlook  plan_consid  \\\n",
       "0             0.0            0.0           1.0          0.0   \n",
       "1             0.0            0.0           1.0          0.0   \n",
       "2             0.0            0.0           1.0          0.0   \n",
       "3             0.0            0.0           1.0          0.0   \n",
       "4             0.0            0.0           1.0          0.0   \n",
       "\n",
       "   plan_neverthought  plan_no  plan_perhaps  leave  \n",
       "0                0.0      0.0           0.0    1.0  \n",
       "1                0.0      0.0           0.0    0.0  \n",
       "2                0.0      0.0           0.0    0.0  \n",
       "3                0.0      0.0           0.0    0.0  \n",
       "4                0.0      0.0           0.0    1.0  \n",
       "\n",
       "[5 rows x 24 columns]"
      ]
     },
     "execution_count": 3,
     "metadata": {},
     "output_type": "execute_result"
    }
   ],
   "source": [
    "pima.head()"
   ]
  },
  {
   "cell_type": "code",
   "execution_count": 71,
   "metadata": {},
   "outputs": [
    {
     "data": {
      "text/plain": [
       "Index(['college', 'income', 'overage', 'leftover', 'house', 'handset',\n",
       "       'long_calls', 'avg_calls', 'satis_average', 'satis_sat', 'satis_unsat',\n",
       "       'satis_verysat', 'satis_veryunsat', 'usage_avg', 'usage_high',\n",
       "       'usage_low', 'usage_veryhigh', 'usage_verylow', 'plan_actlook',\n",
       "       'plan_consid', 'plan_neverthought', 'plan_no', 'plan_perhaps', 'leave'],\n",
       "      dtype='object')"
      ]
     },
     "execution_count": 71,
     "metadata": {},
     "output_type": "execute_result"
    }
   ],
   "source": [
    "pima.columns"
   ]
  },
  {
   "cell_type": "markdown",
   "metadata": {},
   "source": [
    "<b> 1st pass </b>"
   ]
  },
  {
   "cell_type": "code",
   "execution_count": 72,
   "metadata": {},
   "outputs": [],
   "source": [
    "feature_cols = ['college', 'income', 'overage', 'leftover', 'house', 'handset',\n",
    "       'long_calls', 'avg_calls', 'satis_average', 'satis_sat', 'satis_unsat',\n",
    "       'satis_verysat', 'satis_veryunsat', 'usage_avg', 'usage_high',\n",
    "       'usage_low', 'usage_veryhigh', 'usage_verylow', 'plan_actlook',\n",
    "       'plan_consid', 'plan_neverthought', 'plan_no', 'plan_perhaps']\n",
    "X = pima[feature_cols] # Features\n",
    "y = pima.leave # Target variable"
   ]
  },
  {
   "cell_type": "code",
   "execution_count": 73,
   "metadata": {},
   "outputs": [],
   "source": [
    "# Split dataset into training set and test set\n",
    "X_train, X_test, y_train, y_test = train_test_split(X, y, test_size=0.3, random_state=1) # 70% training and 30% test"
   ]
  },
  {
   "cell_type": "code",
   "execution_count": 74,
   "metadata": {},
   "outputs": [
    {
     "name": "stdout",
     "output_type": "stream",
     "text": [
      "[0.715      0.70666667 0.6825     0.66083333 0.69583333]\n",
      "0.6921666666666667\n",
      "0.0004550694444444433\n"
     ]
    }
   ],
   "source": [
    "# Create Decision Tree classifer object\n",
    "clf = DecisionTreeClassifier(criterion=\"entropy\", max_depth=4)\n",
    "\n",
    "# Train Decision Tree Classifer\n",
    "clf = clf.fit(X_train,y_train)\n",
    "\n",
    "scores = cross_val_score(estimator=clf, X=X_test, y=y_test, cv=5)\n",
    "score_average = statistics.mean(scores)\n",
    "score_variance = statistics.variance(scores)\n",
    "\n",
    "#Predict the response for train dataset\n",
    "y_pred = clf.predict(X_train)\n",
    "\n",
    "print(scores)\n",
    "print(score_average)\n",
    "print(score_variance)\n",
    "\n"
   ]
  },
  {
   "cell_type": "code",
   "execution_count": 75,
   "metadata": {},
   "outputs": [],
   "source": [
    "#from sklearn.tree import export_graphviz\n",
    "#from sklearn.externals.six import StringIO  \n",
    "#from IPython.display import Image  \n",
    "#import pydotplus\n",
    "\n",
    "#dot_data = StringIO()\n",
    "#export_graphviz(clf, out_file=dot_data,  \n",
    " #               filled=True, rounded=True,\n",
    "  #              special_characters=True,feature_names = feature_cols,class_names=['0','1'])\n",
    "#graph = pydotplus.graph_from_dot_data(dot_data.getvalue())  \n",
    "#graph.write_png('churn.png')\n",
    "#Image(graph.create_png())"
   ]
  },
  {
   "cell_type": "code",
   "execution_count": 76,
   "metadata": {},
   "outputs": [
    {
     "name": "stdout",
     "output_type": "stream",
     "text": [
      "Accuracy: 0.7033571428571429\n"
     ]
    }
   ],
   "source": [
    "print(\"Accuracy:\",metrics.accuracy_score(y_train, y_pred))"
   ]
  },
  {
   "cell_type": "code",
   "execution_count": 55,
   "metadata": {},
   "outputs": [],
   "source": [
    "#Predict the response for test dataset\n",
    "y_pred = clf.predict(X_test)"
   ]
  },
  {
   "cell_type": "code",
   "execution_count": 56,
   "metadata": {},
   "outputs": [
    {
     "name": "stdout",
     "output_type": "stream",
     "text": [
      "Accuracy: 0.6995\n"
     ]
    }
   ],
   "source": [
    "print(\"Accuracy:\",metrics.accuracy_score(y_test, y_pred))"
   ]
  },
  {
   "cell_type": "markdown",
   "metadata": {},
   "source": [
    "<b>1st pass: </b><br>\n",
    "Train_Data (Accuracy  62%) <br>\n",
    "          Test_Data (Accuracy 57%)\n"
   ]
  },
  {
   "cell_type": "markdown",
   "metadata": {},
   "source": [
    "<b> 2nd pass </b>"
   ]
  },
  {
   "cell_type": "code",
   "execution_count": null,
   "metadata": {},
   "outputs": [],
   "source": [
    "# shuffling features\n",
    "feature_cols = ['college', 'overage', 'leftover', 'handset', 'satisfied','very_unsatisfied','very_high_usage','long_calls']\n",
    "X = pima[feature_cols] # Features\n",
    "y = pima.leave # Target variable"
   ]
  },
  {
   "cell_type": "code",
   "execution_count": null,
   "metadata": {},
   "outputs": [],
   "source": [
    "# Split dataset into training set and test set\n",
    "X_train, X_test, y_train, y_test = train_test_split(X, y, test_size=0.25, random_state=1) # 75% training and 25% test"
   ]
  },
  {
   "cell_type": "code",
   "execution_count": null,
   "metadata": {},
   "outputs": [],
   "source": [
    "# Create Decision Tree classifer object\n",
    "clf = DecisionTreeClassifier()\n",
    "\n",
    "# Train Decision Tree Classifer\n",
    "clf = clf.fit(X_train,y_train)\n",
    "\n",
    "#Predict the response for train dataset\n",
    "y_pred = clf.predict(X_train)"
   ]
  },
  {
   "cell_type": "code",
   "execution_count": 29,
   "metadata": {},
   "outputs": [
    {
     "name": "stdout",
     "output_type": "stream",
     "text": [
      "Accuracy: 0.7033571428571429\n"
     ]
    }
   ],
   "source": [
    "print(\"Accuracy:\",metrics.accuracy_score(y_train, y_pred))"
   ]
  },
  {
   "cell_type": "code",
   "execution_count": 30,
   "metadata": {},
   "outputs": [],
   "source": [
    "#Predict the response for test dataset\n",
    "y_pred = clf.predict(X_test)"
   ]
  },
  {
   "cell_type": "code",
   "execution_count": 31,
   "metadata": {},
   "outputs": [
    {
     "name": "stdout",
     "output_type": "stream",
     "text": [
      "Accuracy: 0.6995\n"
     ]
    }
   ],
   "source": [
    "print(\"Accuracy:\",metrics.accuracy_score(y_test, y_pred))"
   ]
  },
  {
   "cell_type": "markdown",
   "metadata": {},
   "source": [
    "<b>2nd pass: </b><br>\n",
    "Train_Data (Accuracy  99.93%) <br>\n",
    "Test_Data (Accuracy 54%)\n"
   ]
  },
  {
   "cell_type": "markdown",
   "metadata": {},
   "source": [
    "<b> 3rd pass </b>"
   ]
  },
  {
   "cell_type": "code",
   "execution_count": null,
   "metadata": {},
   "outputs": [],
   "source": [
    "# shuffling features again\n",
    "feature_cols = ['college', 'handset', 'satisfied','very_unsatisfied','very_high_usage','long_calls']\n",
    "X = pima[feature_cols] # Features\n",
    "y = pima.leave # Target variable"
   ]
  },
  {
   "cell_type": "code",
   "execution_count": null,
   "metadata": {},
   "outputs": [],
   "source": [
    "# Split dataset into training set and test set\n",
    "X_train, X_test, y_train, y_test = train_test_split(X, y, test_size=0.25, random_state=1) # 75% training and 25% test"
   ]
  },
  {
   "cell_type": "code",
   "execution_count": null,
   "metadata": {},
   "outputs": [],
   "source": [
    "# Create Decision Tree classifer object\n",
    "clf = DecisionTreeClassifier()\n",
    "\n",
    "# Train Decision Tree Classifer\n",
    "clf = clf.fit(X_train,y_train)\n",
    "\n",
    "#Predict the response for train dataset\n",
    "y_pred = clf.predict(X_train)"
   ]
  },
  {
   "cell_type": "code",
   "execution_count": null,
   "metadata": {},
   "outputs": [],
   "source": [
    "print(\"Accuracy:\",metrics.accuracy_score(y_train, y_pred))"
   ]
  },
  {
   "cell_type": "code",
   "execution_count": null,
   "metadata": {},
   "outputs": [],
   "source": [
    "#Predict the response for test dataset\n",
    "y_pred = clf.predict(X_test)"
   ]
  },
  {
   "cell_type": "code",
   "execution_count": null,
   "metadata": {},
   "outputs": [],
   "source": [
    "print(\"Accuracy:\",metrics.accuracy_score(y_test, y_pred))"
   ]
  },
  {
   "cell_type": "markdown",
   "metadata": {},
   "source": [
    "<b>3rd pass: </b><br>\n",
    "Train_Data (Accuracy 98.33%)<br>\n",
    "Test_Data (Accuracy 53.1%)"
   ]
  },
  {
   "cell_type": "markdown",
   "metadata": {},
   "source": [
    "<b> 4th pass </b>"
   ]
  },
  {
   "cell_type": "code",
   "execution_count": null,
   "metadata": {},
   "outputs": [],
   "source": [
    "# Shuffling again\n",
    "feature_cols = ['college', 'income', 'overage', 'leftover', 'house', 'handset',\n",
    "       'long_calls',   'unsatisfied', 'very_unsatisfied', 'avg_usage',\n",
    "       'high_usage']\n",
    "X = pima[feature_cols] # Features\n",
    "y = pima.leave # Target variable"
   ]
  },
  {
   "cell_type": "code",
   "execution_count": null,
   "metadata": {},
   "outputs": [],
   "source": [
    "# Split dataset into training set and test set\n",
    "X_train, X_test, y_train, y_test = train_test_split(X, y, test_size=0.3, random_state=1) # 70% training and 30% test"
   ]
  },
  {
   "cell_type": "code",
   "execution_count": null,
   "metadata": {},
   "outputs": [],
   "source": [
    "# Create Decision Tree classifer object\n",
    "clf = DecisionTreeClassifier()\n",
    "\n",
    "# Train Decision Tree Classifer\n",
    "clf = clf.fit(X_train,y_train)\n",
    "\n",
    "#Predict the response for train dataset\n",
    "y_pred = clf.predict(X_train)"
   ]
  },
  {
   "cell_type": "code",
   "execution_count": null,
   "metadata": {},
   "outputs": [],
   "source": [
    "print(\"Accuracy:\",metrics.accuracy_score(y_train, y_pred))"
   ]
  },
  {
   "cell_type": "code",
   "execution_count": null,
   "metadata": {},
   "outputs": [],
   "source": [
    "#Predict the response for test dataset\n",
    "y_pred = clf.predict(X_test)"
   ]
  },
  {
   "cell_type": "code",
   "execution_count": null,
   "metadata": {},
   "outputs": [],
   "source": [
    "print(\"Accuracy:\",metrics.accuracy_score(y_test, y_pred))"
   ]
  },
  {
   "cell_type": "markdown",
   "metadata": {},
   "source": [
    "<b>4th pass: </b><br>\n",
    "Train_Data (Accuracy 100%)<br>\n",
    "Test_Data (Accuracy 62.75%)"
   ]
  },
  {
   "cell_type": "markdown",
   "metadata": {},
   "source": [
    "We can plot the graph (learning curve and fitting curve) with the train and test accuracy."
   ]
  },
  {
   "cell_type": "code",
   "execution_count": null,
   "metadata": {},
   "outputs": [],
   "source": []
  }
 ],
 "metadata": {
  "kernelspec": {
   "display_name": "Python 3",
   "language": "python",
   "name": "python3"
  },
  "language_info": {
   "codemirror_mode": {
    "name": "ipython",
    "version": 3
   },
   "file_extension": ".py",
   "mimetype": "text/x-python",
   "name": "python",
   "nbconvert_exporter": "python",
   "pygments_lexer": "ipython3",
   "version": "3.7.3"
  }
 },
 "nbformat": 4,
 "nbformat_minor": 2
}
